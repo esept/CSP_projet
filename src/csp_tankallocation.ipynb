{
  "nbformat": 4,
  "nbformat_minor": 0,
  "metadata": {
    "colab": {
      "provenance": []
    },
    "kernelspec": {
      "name": "python3",
      "display_name": "Python 3"
    },
    "language_info": {
      "name": "python"
    }
  },
  "cells": [
    {
      "cell_type": "code",
      "execution_count": 2,
      "metadata": {
        "colab": {
          "base_uri": "https://localhost:8080/"
        },
        "id": "HvQpyOkjkOKj",
        "outputId": "161acc3d-19e6-4760-d57b-74e8a88c2b9b"
      },
      "outputs": [
        {
          "output_type": "stream",
          "name": "stdout",
          "text": [
            "Requirement already satisfied: pycsp3 in /usr/local/lib/python3.11/dist-packages (2.4.3)\n",
            "Requirement already satisfied: lxml in /usr/local/lib/python3.11/dist-packages (from pycsp3) (5.3.1)\n"
          ]
        }
      ],
      "source": [
        "!pip install pycsp3"
      ]
    },
    {
      "cell_type": "code",
      "source": [
        "from pycsp3 import *\n",
        "import os\n",
        "import json\n",
        "\n",
        "class TankSolver:\n",
        "    def __init__(self):\n",
        "        self.path = None\n",
        "        self._content = None\n",
        "        self._volumes = None\n",
        "        self._conflicts = None\n",
        "        self._tanks = None\n",
        "\n",
        "    def get_new_file(self, new_path):\n",
        "        clear()\n",
        "        self.path = new_path\n",
        "\n",
        "    def read_file(self):\n",
        "        with open(self.path) as f:\n",
        "            content = json.load(f)\n",
        "        self._volumes = content['volumes']\n",
        "        self._conflicts = content['conflicts']\n",
        "        self._tanks = content['tanks']\n",
        "\n",
        "    def define_vars(self):\n",
        "        global vars\n",
        "        vars = VarArray(\n",
        "            size=len(self._tanks),\n",
        "            dom=range(len(self._volumes) + 1)\n",
        "        )\n",
        "\n",
        "    def def_sat(self):\n",
        "        satisfy(\n",
        "            [\n",
        "                Sum([self._tanks[i]['capacity'] * (vars[i] == t) for i in range(len(self._tanks))]) >= self._volumes[t]\n",
        "                for t in range(len(self._volumes)) if self._volumes[t] > 0\n",
        "            ],\n",
        "            [\n",
        "                vars[i] != cargo\n",
        "                for i in range(len(self._tanks))\n",
        "                for cargo in self._tanks[i]['impossibleCargos']\n",
        "            ],\n",
        "            [\n",
        "                (vars[i] != x) | (vars[j] != y)\n",
        "                for (x,y) in self._conflicts\n",
        "                for i in range(len(self._tanks))\n",
        "                for j in self._tanks[i]['neighbors']\n",
        "            ]\n",
        "        )\n",
        "\n",
        "\n",
        "    def validate_solution(self, sol):\n",
        "        solution(vars=sol)\n",
        "        if check():\n",
        "            print('This solution is valid')\n",
        "        else:\n",
        "            print('This solution is not valid')\n",
        "\n",
        "\n",
        "    def show_constraint(self):\n",
        "        print(posted())\n",
        "\n",
        "    def show_exp(self):\n",
        "        print('volumes')\n",
        "        print(len(self._volumes))\n",
        "        print('conflict')\n",
        "        print(len(self._conflicts))\n",
        "        print('tanks')\n",
        "        print(len(self._tanks))\n",
        "\n",
        "    def solve(self):\n",
        "        if solve(options=\"-varh=FrbaOnDom\") is SAT:\n",
        "            print(\"Solution found:\")\n",
        "            print(values(vars))\n",
        "        else:\n",
        "            print(\"No solution found.\")\n",
        "\n",
        "    def veferication(self, thesolution):\n",
        "        # 容量测试\n",
        "        tank_volumes = [0 for _ in range(len(self._volumes))]\n",
        "        for idx, num in enumerate(thesolution):\n",
        "            tank_volumes[num] += self._tanks[idx]['capacity']\n",
        "        print(tank_volumes)\n",
        "        print(self._volumes)\n",
        "        # conflict\n",
        "\n"
      ],
      "metadata": {
        "id": "KVRCNaTCkbXl"
      },
      "execution_count": 3,
      "outputs": []
    },
    {
      "cell_type": "code",
      "source": [
        "import os\n",
        "from pycsp3 import *\n",
        "import shutil\n",
        "\n",
        "\n",
        "if __name__ == '__main__':\n",
        "\n",
        "    path = \"/content/drive/MyDrive/dataTankAllocation\"\n",
        "    all_files = os.listdir(path)\n",
        "    ff = sorted(all_files)\n",
        "    print(ff)\n",
        "    all_files = [os.path.join(path, af) for af in ff]\n",
        "\n",
        "    # all_files = [\"./0000.json\",\"./chemical.json\"]\n",
        "\n",
        "    tk = TankSolver()\n",
        "\n",
        "    for file in all_files[:10]:\n",
        "        print(file.split('/')[-1])\n",
        "        tk.get_new_file(file)\n",
        "        tk.read_file()\n",
        "        tk.define_vars()\n",
        "        tk.def_sat()\n",
        "        tk.solve()\n"
      ],
      "metadata": {
        "colab": {
          "base_uri": "https://localhost:8080/"
        },
        "id": "1mUKua-hkcru",
        "outputId": "906bb56f-a65f-48f0-8501-4f1ca02282a2"
      },
      "execution_count": 5,
      "outputs": [
        {
          "output_type": "stream",
          "name": "stdout",
          "text": [
            "['0009.json', '0048.json', '0224.json', '0265.json', '0273.json', '0320.json', '0336.json', '0361.json', '0418.json', '0459.json', '0623.json', '0635.json', '0674.json', '0731.json', '0766.json', '0770.json', '0789.json', '0818.json', '0859.json', '1024.json', '1032.json', '1065.json', '1120.json', '1161.json', '1177.json', '1198.json', '1209.json', '1248.json', '1435.json', '1462.json', '1474.json', '1527.json', '1531.json', '1570.json', '1618.json', '1659.json', '1823.json', '1862.json', '1874.json', '1927.json', '1931.json', '1966.json', '1989.json', '2022.json', '2034.json', '2075.json', '2126.json', '2130.json', '2167.json', '2171.json', '2188.json', '2219.json', '2258.json', '2425.json', '2464.json', '2472.json', '2521.json', '2537.json', '2560.json', '2576.json']\n",
            "0009.json\n",
            "Solution found:\n",
            "[11, 9, 14, 4, 3, 3, 6, 10, 13, 8, 4, 9, 14, 12, 10, 11, 4, 14, 12, 5, 12, 12, 11, 3, 13]\n",
            "0048.json\n",
            "Solution found:\n",
            "[14, 5, 11, 5, 9, 5, 10, 9, 15, 9, 7, 15, 7, 9, 9, 6, 6, 1, 4, 0, 4, 3, 2, 9, 5]\n",
            "0224.json\n",
            "Solution found:\n",
            "[14, 14, 14, 12, 12, 11, 12, 11, 11, 11, 8, 13, 8, 8, 9, 8, 8, 7, 7, 7, 1, 6, 5, 0, 0]\n",
            "0265.json\n",
            "Solution found:\n",
            "[8, 14, 6, 13, 8, 7, 14, 15, 10, 0, 14, 8, 10, 5, 13, 6, 8, 0, 11, 4, 14, 13, 11, 4, 0]\n",
            "0273.json\n",
            "Solution found:\n",
            "[1, 6, 0, 9, 13, 8, 13, 13, 6, 12, 7, 11, 7, 13, 15, 7, 8, 7, 12, 7, 7, 14, 5, 10, 1]\n",
            "0320.json\n",
            "Solution found:\n",
            "[12, 14, 4, 5, 10, 13, 12, 8, 7, 11, 12, 7, 11, 13, 11, 13, 8, 12, 8, 6, 0, 3, 5, 13, 0]\n",
            "0336.json\n",
            "Solution found:\n",
            "[2, 11, 5, 4, 3, 8, 10, 9, 13, 11, 7, 9, 8, 14, 3, 13, 8, 13, 3, 8, 8, 1, 4, 14, 8, 13, 9, 3, 10, 10, 9, 12, 13, 12, 5]\n",
            "0361.json\n",
            "Solution found:\n",
            "[0, 5, 13, 6, 7, 6, 10, 4, 2, 5, 2, 13, 1, 4, 8, 10, 5, 10, 11, 0, 1, 14, 3, 5, 6, 6, 7, 10, 7, 4, 3, 8, 10, 0, 8]\n",
            "0418.json\n",
            "Solution found:\n",
            "[14, 9, 12, 13, 11, 10, 12, 11, 11, 11, 14, 13, 13, 8, 13, 10, 13, 11, 13, 9, 8, 8, 8, 3, 5, 2, 5, 3, 8, 7, 2, 5, 0, 0, 4]\n",
            "0459.json\n",
            "Solution found:\n",
            "[13, 14, 14, 14, 14, 13, 12, 13, 12, 10, 10, 11, 10, 9, 9, 9, 10, 8, 8, 6, 7, 8, 6, 8, 5, 5, 5, 4, 5, 2, 2, 3, 0, 0, 0]\n"
          ]
        }
      ]
    },
    {
      "cell_type": "code",
      "source": [],
      "metadata": {
        "id": "zbnYHY1rkrQx"
      },
      "execution_count": null,
      "outputs": []
    }
  ]
}