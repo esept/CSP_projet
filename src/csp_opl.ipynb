{
  "nbformat": 4,
  "nbformat_minor": 0,
  "metadata": {
    "colab": {
      "provenance": []
    },
    "kernelspec": {
      "name": "python3",
      "display_name": "Python 3"
    },
    "language_info": {
      "name": "python"
    }
  },
  "cells": [
    {
      "cell_type": "code",
      "source": [
        "!pip install pycsp3"
      ],
      "metadata": {
        "colab": {
          "base_uri": "https://localhost:8080/"
        },
        "id": "URJBxSdYbkVE",
        "outputId": "483acdfa-2ee7-4b47-ffc8-e7cbb2282331"
      },
      "execution_count": null,
      "outputs": [
        {
          "output_type": "stream",
          "name": "stdout",
          "text": [
            "Collecting pycsp3\n",
            "  Downloading pycsp3-2.4.3-py3-none-any.whl.metadata (23 kB)\n",
            "Requirement already satisfied: lxml in /usr/local/lib/python3.11/dist-packages (from pycsp3) (5.3.1)\n",
            "Downloading pycsp3-2.4.3-py3-none-any.whl (10.9 MB)\n",
            "\u001b[2K   \u001b[90m━━━━━━━━━━━━━━━━━━━━━━━━━━━━━━━━━━━━━━━━\u001b[0m \u001b[32m10.9/10.9 MB\u001b[0m \u001b[31m64.2 MB/s\u001b[0m eta \u001b[36m0:00:00\u001b[0m\n",
            "\u001b[?25hInstalling collected packages: pycsp3\n",
            "Successfully installed pycsp3-2.4.3\n"
          ]
        }
      ]
    },
    {
      "cell_type": "code",
      "execution_count": null,
      "metadata": {
        "id": "tvvlTIyRbdDw"
      },
      "outputs": [],
      "source": [
        "from pycsp3 import *\n",
        "import json\n",
        "# import shutil"
      ]
    },
    {
      "cell_type": "code",
      "source": [
        "''' ----- Read json data ----- '''\n",
        "data_path = \"./OPL.json\"\n",
        "\n",
        "with open(data_path) as json_file:\n",
        "    content = json.load(json_file)\n",
        "keys = content.keys()\n",
        "print(keys)\n",
        "\n",
        "''' ----- Load data ----- '''\n",
        "\n",
        "nbCells = content['nbCells']\n",
        "nbFreqs = content['nbFreqs']\n",
        "nbTrans = content['nbTrans']\n",
        "distance = content['distance']\n",
        "\n",
        "# 索引\n",
        "Cells = range(nbCells)\n",
        "Freqs = range(1, nbFreqs + 1)\n",
        "Transmits = [(c, t) for c in Cells for t in range(nbTrans[c])]\n",
        "\n",
        "# 变量\n",
        "freq = VarArray(size=len(Transmits), dom=Freqs)\n",
        "\n",
        "''' ----- define constraints ----- '''\n",
        "satisfy(\n",
        "    # 站点内部间隔 16\n",
        "    [abs(freq[i] - freq[j]) >= 16\n",
        "     for c in Cells\n",
        "     for i, (c1, t1) in enumerate(Transmits) if c1 == c\n",
        "     for j, (c2, t2) in enumerate(Transmits) if c2 == c and t1 < t2],\n",
        "\n",
        "    # 站点之间间隔 distance[c1][c2]\n",
        "    [abs(freq[i] - freq[j]) >= distance[c1][c2]\n",
        "     for i, (c1, t1) in enumerate(Transmits)\n",
        "     for j, (c2, t2) in enumerate(Transmits)\n",
        "     if c1 < c2 and distance[c1][c2] > 0]\n",
        ")\n",
        "\n",
        "# 目标：最小化使用的不同频率数\n",
        "minimize(NValues(freq))\n",
        "# shutil.move(\"./opl.xml\",\"./docs/xmls/opl.xml\")\n",
        "\n",
        "# 运行求解器\n",
        "if solve(options=\"-varh=FrbaOnDom\") is SAT:\n",
        "    print(values(freq))"
      ],
      "metadata": {
        "id": "STwmPWH-bhLb",
        "colab": {
          "base_uri": "https://localhost:8080/"
        },
        "outputId": "5def0e3f-48a7-4d74-b91b-c4cc583a4d2a"
      },
      "execution_count": 4,
      "outputs": [
        {
          "output_type": "stream",
          "name": "stdout",
          "text": [
            "dict_keys(['nbCells', 'nbFreqs', 'nbTrans', 'distance'])\n",
            "[1, 17, 92, 49, 65, 108, 124, 140, 12, 28, 44, 60, 76, 94, 14, 30, 46, 62, 78, 110, 2, 4, 20, 36, 52, 6, 22, 38, 54, 3, 19, 35, 51, 68, 87, 103, 119, 5, 21, 37, 53, 71, 89, 105, 121, 7, 23, 39, 55, 71, 87, 103, 119, 9, 25, 41, 57, 73, 89, 105, 121, 11, 27, 43, 59, 13, 29, 45, 61, 77, 93, 109, 125, 141, 15, 31, 47, 63, 79, 95, 111, 127, 3, 19, 35, 51, 5, 21, 37, 53, 2, 18, 34, 50, 66, 82, 98, 114, 130, 146, 8, 24, 40, 56, 72, 88, 104, 120, 12, 28, 44, 60, 76, 92, 108, 124, 140, 14, 30, 46, 62, 78, 94, 110, 126, 1, 17, 49, 65, 4, 20, 36, 52, 68, 6, 22, 38, 54, 7, 23, 39, 55, 71, 87, 103, 119, 10, 16]\n"
          ]
        }
      ]
    },
    {
      "cell_type": "code",
      "source": [],
      "metadata": {
        "id": "yyxzXgtzbiKW"
      },
      "execution_count": null,
      "outputs": []
    }
  ]
}